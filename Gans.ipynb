{
  "cells": [
    {
      "cell_type": "code",
      "execution_count": 1,
      "metadata": {
        "colab": {
          "base_uri": "https://localhost:8080/"
        },
        "id": "gepDYfcS_2vA",
        "outputId": "74320bd0-6edb-4041-c4d0-9ea8698cdb4d"
      },
      "outputs": [
        {
          "output_type": "stream",
          "name": "stdout",
          "text": [
            "2.0.1+cu118\n",
            "GPU Available: True\n"
          ]
        }
      ],
      "source": [
        "from IPython.display import Image\n",
        "%matplotlib inline\n",
        "import torch\n",
        "\n",
        "\n",
        "print(torch.__version__)\n",
        "print(\"GPU Available:\", torch.cuda.is_available())\n",
        "\n",
        "if torch.cuda.is_available():\n",
        "    device = torch.device(\"cuda:0\")\n",
        "else:\n",
        "    device = \"cpu\"\n",
        "import torch.nn as nn\n",
        "import numpy as np\n",
        "\n",
        "import matplotlib.pyplot as plt\n",
        "%matplotlib inline"
      ]
    },
    {
      "cell_type": "code",
      "execution_count": 2,
      "metadata": {
        "id": "VjTGj1fS_2vD"
      },
      "outputs": [],
      "source": [
        "def make_generator_network(input_size, n_filters):\n",
        "    model = nn.Sequential(\n",
        "        nn.ConvTranspose2d(input_size, n_filters*4, 4, 1, 0,\n",
        "                           bias=False),\n",
        "        nn.BatchNorm2d(n_filters*4),\n",
        "        nn.LeakyReLU(0.2),\n",
        "\n",
        "        nn.ConvTranspose2d(n_filters*4, n_filters*2, 3, 2, 1, bias=False),\n",
        "        nn.BatchNorm2d(n_filters*2),\n",
        "        nn.LeakyReLU(0.2),\n",
        "\n",
        "        nn.ConvTranspose2d(n_filters*2, n_filters, 4, 2, 1, bias=False),\n",
        "        nn.BatchNorm2d(n_filters),\n",
        "        nn.LeakyReLU(0.2),\n",
        "\n",
        "        nn.ConvTranspose2d(n_filters, 1, 4, 2, 1, bias=False),\n",
        "        nn.Tanh())\n",
        "    return model\n",
        "\n",
        "class Discriminator(nn.Module):\n",
        "    def __init__(self, n_filters):\n",
        "        super().__init__()\n",
        "        self.network = nn.Sequential(\n",
        "            nn.Conv2d(1, n_filters, 4, 2, 1, bias=False),\n",
        "            nn.LeakyReLU(0.2),\n",
        "\n",
        "            nn.Conv2d(n_filters, n_filters*2, 4, 2, 1, bias=False),\n",
        "            nn.BatchNorm2d(n_filters * 2),\n",
        "            nn.LeakyReLU(0.2),\n",
        "\n",
        "            nn.Conv2d(n_filters*2, n_filters*4, 3, 2, 1, bias=False),\n",
        "            nn.BatchNorm2d(n_filters*4),\n",
        "            nn.LeakyReLU(0.2),\n",
        "\n",
        "            nn.Conv2d(n_filters*4, 1, 4, 1, 0, bias=False),\n",
        "            nn.Sigmoid())\n",
        "\n",
        "    def forward(self, input):\n",
        "        output = self.network(input)\n",
        "        return output.view(-1, 1).squeeze(0)"
      ]
    },
    {
      "cell_type": "code",
      "execution_count": 4,
      "metadata": {
        "colab": {
          "base_uri": "https://localhost:8080/"
        },
        "id": "wN1znl_B_2vE",
        "outputId": "2695d8ab-490a-487c-de47-23a3d10bb995"
      },
      "outputs": [
        {
          "output_type": "stream",
          "name": "stdout",
          "text": [
            "Downloading http://yann.lecun.com/exdb/mnist/train-images-idx3-ubyte.gz\n",
            "Downloading http://yann.lecun.com/exdb/mnist/train-images-idx3-ubyte.gz to ./MNIST/raw/train-images-idx3-ubyte.gz\n"
          ]
        },
        {
          "output_type": "stream",
          "name": "stderr",
          "text": [
            "100%|██████████| 9912422/9912422 [00:00<00:00, 160782226.45it/s]\n"
          ]
        },
        {
          "output_type": "stream",
          "name": "stdout",
          "text": [
            "Extracting ./MNIST/raw/train-images-idx3-ubyte.gz to ./MNIST/raw\n",
            "\n",
            "Downloading http://yann.lecun.com/exdb/mnist/train-labels-idx1-ubyte.gz\n",
            "Downloading http://yann.lecun.com/exdb/mnist/train-labels-idx1-ubyte.gz to ./MNIST/raw/train-labels-idx1-ubyte.gz\n"
          ]
        },
        {
          "output_type": "stream",
          "name": "stderr",
          "text": [
            "100%|██████████| 28881/28881 [00:00<00:00, 8220391.82it/s]\n"
          ]
        },
        {
          "output_type": "stream",
          "name": "stdout",
          "text": [
            "Extracting ./MNIST/raw/train-labels-idx1-ubyte.gz to ./MNIST/raw\n",
            "\n",
            "Downloading http://yann.lecun.com/exdb/mnist/t10k-images-idx3-ubyte.gz\n",
            "Downloading http://yann.lecun.com/exdb/mnist/t10k-images-idx3-ubyte.gz to ./MNIST/raw/t10k-images-idx3-ubyte.gz\n"
          ]
        },
        {
          "output_type": "stream",
          "name": "stderr",
          "text": [
            "100%|██████████| 1648877/1648877 [00:00<00:00, 67389928.35it/s]"
          ]
        },
        {
          "output_type": "stream",
          "name": "stdout",
          "text": [
            "Extracting ./MNIST/raw/t10k-images-idx3-ubyte.gz to ./MNIST/raw\n"
          ]
        },
        {
          "output_type": "stream",
          "name": "stderr",
          "text": [
            "\n"
          ]
        },
        {
          "output_type": "stream",
          "name": "stdout",
          "text": [
            "\n",
            "Downloading http://yann.lecun.com/exdb/mnist/t10k-labels-idx1-ubyte.gz\n",
            "Downloading http://yann.lecun.com/exdb/mnist/t10k-labels-idx1-ubyte.gz to ./MNIST/raw/t10k-labels-idx1-ubyte.gz\n"
          ]
        },
        {
          "output_type": "stream",
          "name": "stderr",
          "text": [
            "100%|██████████| 4542/4542 [00:00<00:00, 2092544.90it/s]"
          ]
        },
        {
          "output_type": "stream",
          "name": "stdout",
          "text": [
            "Extracting ./MNIST/raw/t10k-labels-idx1-ubyte.gz to ./MNIST/raw\n",
            "\n"
          ]
        },
        {
          "output_type": "stream",
          "name": "stderr",
          "text": [
            "\n"
          ]
        }
      ],
      "source": [
        "import torchvision\n",
        "from torchvision import transforms\n",
        "\n",
        "\n",
        "image_path = './'\n",
        "transform = transforms.Compose([\n",
        "    transforms.ToTensor(),\n",
        "    transforms.Normalize(mean=(0.5), std=(0.5))\n",
        "])\n",
        "mnist_dataset = torchvision.datasets.MNIST(root=image_path,\n",
        "                                           train=True,\n",
        "                                           transform=transform,\n",
        "                                           download=True)\n",
        "\n",
        "batch_size = 64\n",
        "\n",
        "torch.manual_seed(1)\n",
        "np.random.seed(1)\n",
        "\n",
        "## Set up the dataset\n",
        "from torch.utils.data import DataLoader\n",
        "mnist_dl = DataLoader(mnist_dataset, batch_size=batch_size,\n",
        "                      shuffle=True, drop_last=True)"
      ]
    },
    {
      "cell_type": "code",
      "execution_count": 5,
      "metadata": {
        "colab": {
          "base_uri": "https://localhost:8080/"
        },
        "id": "9Eeo-aGk_2vE",
        "outputId": "ad7cddb4-5f8c-496f-bbc4-9e964e6bf6ec"
      },
      "outputs": [
        {
          "output_type": "stream",
          "name": "stdout",
          "text": [
            "Sequential(\n",
            "  (0): ConvTranspose2d(100, 128, kernel_size=(4, 4), stride=(1, 1), bias=False)\n",
            "  (1): BatchNorm2d(128, eps=1e-05, momentum=0.1, affine=True, track_running_stats=True)\n",
            "  (2): LeakyReLU(negative_slope=0.2)\n",
            "  (3): ConvTranspose2d(128, 64, kernel_size=(3, 3), stride=(2, 2), padding=(1, 1), bias=False)\n",
            "  (4): BatchNorm2d(64, eps=1e-05, momentum=0.1, affine=True, track_running_stats=True)\n",
            "  (5): LeakyReLU(negative_slope=0.2)\n",
            "  (6): ConvTranspose2d(64, 32, kernel_size=(4, 4), stride=(2, 2), padding=(1, 1), bias=False)\n",
            "  (7): BatchNorm2d(32, eps=1e-05, momentum=0.1, affine=True, track_running_stats=True)\n",
            "  (8): LeakyReLU(negative_slope=0.2)\n",
            "  (9): ConvTranspose2d(32, 1, kernel_size=(4, 4), stride=(2, 2), padding=(1, 1), bias=False)\n",
            "  (10): Tanh()\n",
            ")\n",
            "Discriminator(\n",
            "  (network): Sequential(\n",
            "    (0): Conv2d(1, 32, kernel_size=(4, 4), stride=(2, 2), padding=(1, 1), bias=False)\n",
            "    (1): LeakyReLU(negative_slope=0.2)\n",
            "    (2): Conv2d(32, 64, kernel_size=(4, 4), stride=(2, 2), padding=(1, 1), bias=False)\n",
            "    (3): BatchNorm2d(64, eps=1e-05, momentum=0.1, affine=True, track_running_stats=True)\n",
            "    (4): LeakyReLU(negative_slope=0.2)\n",
            "    (5): Conv2d(64, 128, kernel_size=(3, 3), stride=(2, 2), padding=(1, 1), bias=False)\n",
            "    (6): BatchNorm2d(128, eps=1e-05, momentum=0.1, affine=True, track_running_stats=True)\n",
            "    (7): LeakyReLU(negative_slope=0.2)\n",
            "    (8): Conv2d(128, 1, kernel_size=(4, 4), stride=(1, 1), bias=False)\n",
            "    (9): Sigmoid()\n",
            "  )\n",
            ")\n"
          ]
        }
      ],
      "source": [
        "z_size = 100\n",
        "image_size = (28, 28)\n",
        "n_filters = 32\n",
        "gen_model = make_generator_network(z_size, n_filters).to(device)\n",
        "print(gen_model)\n",
        "disc_model = Discriminator(n_filters).to(device)\n",
        "print(disc_model)"
      ]
    },
    {
      "cell_type": "code",
      "execution_count": 6,
      "metadata": {
        "id": "aqo4_vHo_2vF"
      },
      "outputs": [],
      "source": [
        "## Loss function and optimizers:\n",
        "loss_fn = nn.BCELoss()\n",
        "g_optimizer = torch.optim.Adam(gen_model.parameters(), 0.0003)\n",
        "d_optimizer = torch.optim.Adam(disc_model.parameters(), 0.0002)"
      ]
    },
    {
      "cell_type": "code",
      "execution_count": 7,
      "metadata": {
        "id": "EtAQBK4i_2vF"
      },
      "outputs": [],
      "source": [
        "def create_noise(batch_size, z_size, mode_z):\n",
        "    if mode_z == 'uniform':\n",
        "        input_z = torch.rand(batch_size, z_size, 1, 1)*2 - 1\n",
        "    elif mode_z == 'normal':\n",
        "        input_z = torch.randn(batch_size, z_size, 1, 1)\n",
        "    return input_z"
      ]
    },
    {
      "cell_type": "code",
      "execution_count": 8,
      "metadata": {
        "id": "m5897_AI_2vG"
      },
      "outputs": [],
      "source": [
        "## Train the discriminator\n",
        "def d_train(x):\n",
        "    disc_model.zero_grad()\n",
        "\n",
        "    # Train discriminator with a real batch\n",
        "    batch_size = x.size(0)\n",
        "    x = x.to(device)\n",
        "    d_labels_real = torch.ones(batch_size, 1, device=device)\n",
        "\n",
        "    d_proba_real = disc_model(x)\n",
        "    d_loss_real = loss_fn(d_proba_real, d_labels_real)\n",
        "\n",
        "    # Train discriminator on a fake batch\n",
        "    input_z = create_noise(batch_size, z_size, mode_z).to(device)\n",
        "    g_output = gen_model(input_z)\n",
        "\n",
        "    d_proba_fake = disc_model(g_output)\n",
        "    d_labels_fake = torch.zeros(batch_size, 1, device=device)\n",
        "    d_loss_fake = loss_fn(d_proba_fake, d_labels_fake)\n",
        "\n",
        "    # gradient backprop & optimize ONLY D's parameters\n",
        "    d_loss = d_loss_real + d_loss_fake\n",
        "    d_loss.backward()\n",
        "    d_optimizer.step()\n",
        "\n",
        "    return d_loss.data.item(), d_proba_real.detach(), d_proba_fake.detach()"
      ]
    },
    {
      "cell_type": "code",
      "execution_count": 9,
      "metadata": {
        "id": "Vz6Y22i__2vG"
      },
      "outputs": [],
      "source": [
        "## Train the generator\n",
        "def g_train(x):\n",
        "    gen_model.zero_grad()\n",
        "\n",
        "    batch_size = x.size(0)\n",
        "    input_z = create_noise(batch_size, z_size, mode_z).to(device)\n",
        "    g_labels_real = torch.ones((batch_size, 1), device=device)\n",
        "\n",
        "    g_output = gen_model(input_z)\n",
        "    d_proba_fake = disc_model(g_output)\n",
        "    g_loss = loss_fn(d_proba_fake, g_labels_real)\n",
        "\n",
        "    # gradient backprop & optimize ONLY G's parameters\n",
        "    g_loss.backward()\n",
        "    g_optimizer.step()\n",
        "\n",
        "    return g_loss.data.item()"
      ]
    },
    {
      "cell_type": "code",
      "execution_count": 10,
      "metadata": {
        "colab": {
          "base_uri": "https://localhost:8080/"
        },
        "id": "dMHv0fz__2vG",
        "outputId": "a8fe45a5-c46e-4369-e1f1-e062844ce9db"
      },
      "outputs": [
        {
          "output_type": "stream",
          "name": "stdout",
          "text": [
            "Epoch 001 | Avg Losses >> G/D 4.8382/0.1019\n",
            "Epoch 002 | Avg Losses >> G/D 4.7102/0.1572\n",
            "Epoch 003 | Avg Losses >> G/D 3.6720/0.2832\n",
            "Epoch 004 | Avg Losses >> G/D 3.0401/0.3385\n",
            "Epoch 005 | Avg Losses >> G/D 2.8397/0.3542\n",
            "Epoch 006 | Avg Losses >> G/D 2.8522/0.3162\n",
            "Epoch 007 | Avg Losses >> G/D 2.9590/0.3318\n",
            "Epoch 008 | Avg Losses >> G/D 2.9337/0.3161\n",
            "Epoch 009 | Avg Losses >> G/D 3.0173/0.2882\n",
            "Epoch 010 | Avg Losses >> G/D 3.0790/0.2802\n",
            "Epoch 011 | Avg Losses >> G/D 3.0593/0.2679\n",
            "Epoch 012 | Avg Losses >> G/D 3.1725/0.2592\n",
            "Epoch 013 | Avg Losses >> G/D 3.2101/0.2526\n",
            "Epoch 014 | Avg Losses >> G/D 3.3226/0.2429\n",
            "Epoch 015 | Avg Losses >> G/D 3.4191/0.2342\n",
            "Epoch 016 | Avg Losses >> G/D 3.3887/0.2336\n",
            "Epoch 017 | Avg Losses >> G/D 3.5154/0.2130\n",
            "Epoch 018 | Avg Losses >> G/D 3.5773/0.2250\n",
            "Epoch 019 | Avg Losses >> G/D 3.5952/0.2048\n",
            "Epoch 020 | Avg Losses >> G/D 3.6293/0.2196\n",
            "Epoch 021 | Avg Losses >> G/D 3.6772/0.1990\n",
            "Epoch 022 | Avg Losses >> G/D 3.7052/0.1945\n",
            "Epoch 023 | Avg Losses >> G/D 3.7847/0.2065\n",
            "Epoch 024 | Avg Losses >> G/D 3.7688/0.1923\n",
            "Epoch 025 | Avg Losses >> G/D 3.9176/0.1960\n",
            "Epoch 026 | Avg Losses >> G/D 3.7655/0.2061\n",
            "Epoch 027 | Avg Losses >> G/D 3.9483/0.1503\n",
            "Epoch 028 | Avg Losses >> G/D 3.8604/0.2049\n",
            "Epoch 029 | Avg Losses >> G/D 3.9987/0.1718\n",
            "Epoch 030 | Avg Losses >> G/D 3.9499/0.1724\n",
            "Epoch 031 | Avg Losses >> G/D 4.0243/0.1812\n",
            "Epoch 032 | Avg Losses >> G/D 4.2094/0.1508\n",
            "Epoch 033 | Avg Losses >> G/D 4.0855/0.1927\n",
            "Epoch 034 | Avg Losses >> G/D 4.1342/0.1525\n",
            "Epoch 035 | Avg Losses >> G/D 4.1573/0.1717\n",
            "Epoch 036 | Avg Losses >> G/D 4.1733/0.1666\n",
            "Epoch 037 | Avg Losses >> G/D 4.0783/0.1790\n",
            "Epoch 038 | Avg Losses >> G/D 4.3030/0.1254\n",
            "Epoch 039 | Avg Losses >> G/D 4.1992/0.1735\n",
            "Epoch 040 | Avg Losses >> G/D 4.1826/0.1929\n",
            "Epoch 041 | Avg Losses >> G/D 4.3398/0.1246\n",
            "Epoch 042 | Avg Losses >> G/D 4.4608/0.1394\n",
            "Epoch 043 | Avg Losses >> G/D 4.3702/0.1513\n",
            "Epoch 044 | Avg Losses >> G/D 4.3267/0.1589\n",
            "Epoch 045 | Avg Losses >> G/D 4.3461/0.1564\n",
            "Epoch 046 | Avg Losses >> G/D 4.3998/0.1443\n",
            "Epoch 047 | Avg Losses >> G/D 4.4661/0.1396\n",
            "Epoch 048 | Avg Losses >> G/D 4.5882/0.1073\n",
            "Epoch 049 | Avg Losses >> G/D 4.5731/0.1251\n",
            "Epoch 050 | Avg Losses >> G/D 4.5128/0.1636\n",
            "Epoch 051 | Avg Losses >> G/D 4.6531/0.1370\n",
            "Epoch 052 | Avg Losses >> G/D 4.5916/0.1290\n",
            "Epoch 053 | Avg Losses >> G/D 4.6172/0.1316\n",
            "Epoch 054 | Avg Losses >> G/D 4.6573/0.1379\n",
            "Epoch 055 | Avg Losses >> G/D 4.7114/0.1164\n",
            "Epoch 056 | Avg Losses >> G/D 4.6991/0.1389\n",
            "Epoch 057 | Avg Losses >> G/D 4.6290/0.1437\n",
            "Epoch 058 | Avg Losses >> G/D 4.7390/0.1157\n",
            "Epoch 059 | Avg Losses >> G/D 4.6505/0.1574\n",
            "Epoch 060 | Avg Losses >> G/D 4.7043/0.1316\n",
            "Epoch 061 | Avg Losses >> G/D 4.8234/0.0978\n",
            "Epoch 062 | Avg Losses >> G/D 4.7598/0.1391\n",
            "Epoch 063 | Avg Losses >> G/D 4.7815/0.1159\n",
            "Epoch 064 | Avg Losses >> G/D 4.8318/0.1046\n",
            "Epoch 065 | Avg Losses >> G/D 4.8472/0.1095\n",
            "Epoch 066 | Avg Losses >> G/D 5.0453/0.0977\n",
            "Epoch 067 | Avg Losses >> G/D 4.7003/0.1378\n",
            "Epoch 068 | Avg Losses >> G/D 4.8218/0.1358\n",
            "Epoch 069 | Avg Losses >> G/D 5.0616/0.1015\n",
            "Epoch 070 | Avg Losses >> G/D 4.9380/0.1198\n",
            "Epoch 071 | Avg Losses >> G/D 4.8965/0.1072\n",
            "Epoch 072 | Avg Losses >> G/D 4.9212/0.1381\n",
            "Epoch 073 | Avg Losses >> G/D 4.7905/0.1084\n",
            "Epoch 074 | Avg Losses >> G/D 4.8287/0.1415\n",
            "Epoch 075 | Avg Losses >> G/D 4.9502/0.0972\n",
            "Epoch 076 | Avg Losses >> G/D 5.0621/0.0901\n",
            "Epoch 077 | Avg Losses >> G/D 5.1053/0.1183\n",
            "Epoch 078 | Avg Losses >> G/D 5.0138/0.1120\n",
            "Epoch 079 | Avg Losses >> G/D 5.1988/0.0984\n",
            "Epoch 080 | Avg Losses >> G/D 5.1485/0.1193\n",
            "Epoch 081 | Avg Losses >> G/D 5.1788/0.1005\n",
            "Epoch 082 | Avg Losses >> G/D 5.1357/0.0998\n",
            "Epoch 083 | Avg Losses >> G/D 5.2035/0.1121\n",
            "Epoch 084 | Avg Losses >> G/D 4.9384/0.1158\n",
            "Epoch 085 | Avg Losses >> G/D 5.2092/0.1140\n",
            "Epoch 086 | Avg Losses >> G/D 5.0874/0.1000\n",
            "Epoch 087 | Avg Losses >> G/D 5.1144/0.1205\n",
            "Epoch 088 | Avg Losses >> G/D 5.3158/0.0870\n",
            "Epoch 089 | Avg Losses >> G/D 5.0631/0.1328\n",
            "Epoch 090 | Avg Losses >> G/D 5.1964/0.0929\n",
            "Epoch 091 | Avg Losses >> G/D 5.4548/0.0790\n",
            "Epoch 092 | Avg Losses >> G/D 5.1397/0.1389\n",
            "Epoch 093 | Avg Losses >> G/D 5.1829/0.1026\n",
            "Epoch 094 | Avg Losses >> G/D 5.1969/0.0975\n",
            "Epoch 095 | Avg Losses >> G/D 5.0914/0.1311\n",
            "Epoch 096 | Avg Losses >> G/D 5.1125/0.1205\n",
            "Epoch 097 | Avg Losses >> G/D 5.3776/0.0724\n",
            "Epoch 098 | Avg Losses >> G/D 5.4960/0.0762\n",
            "Epoch 099 | Avg Losses >> G/D 5.3798/0.1025\n",
            "Epoch 100 | Avg Losses >> G/D 5.3537/0.0992\n"
          ]
        }
      ],
      "source": [
        "mode_z = 'uniform'\n",
        "fixed_z = create_noise(batch_size, z_size, mode_z).to(device)\n",
        "\n",
        "def create_samples(g_model, input_z):\n",
        "    g_output = g_model(input_z)\n",
        "    images = torch.reshape(g_output, (batch_size, *image_size))\n",
        "    return (images+1)/2.0\n",
        "\n",
        "epoch_samples = []\n",
        "\n",
        "num_epochs = 100\n",
        "torch.manual_seed(1)\n",
        "\n",
        "for epoch in range(1, num_epochs+1):\n",
        "    gen_model.train()\n",
        "    d_losses, g_losses = [], []\n",
        "    for i, (x, _) in enumerate(mnist_dl):\n",
        "        d_loss, d_proba_real, d_proba_fake = d_train(x)\n",
        "        d_losses.append(d_loss)\n",
        "        g_losses.append(g_train(x))\n",
        "\n",
        "    print(f'Epoch {epoch:03d} | Avg Losses >>'\n",
        "          f' G/D {torch.FloatTensor(g_losses).mean():.4f}'\n",
        "          f'/{torch.FloatTensor(d_losses).mean():.4f}')\n",
        "    gen_model.eval()\n",
        "    epoch_samples.append(\n",
        "        create_samples(gen_model, fixed_z).detach().cpu().numpy())"
      ]
    },
    {
      "cell_type": "code",
      "source": [
        "selected_epochs = [1, 2, 4, 10, 50, 100]\n",
        "fig = plt.figure(figsize=(10, 14))\n",
        "for i,e in enumerate(selected_epochs):\n",
        "    for j in range(5):\n",
        "        ax = fig.add_subplot(6, 5, i*5+j+1)\n",
        "        ax.set_xticks([])\n",
        "        ax.set_yticks([])\n",
        "        if j == 0:\n",
        "            ax.text(\n",
        "                -0.06, 0.5, f'Epoch {e}',\n",
        "                rotation=90, size=18, color='red',\n",
        "                horizontalalignment='right',\n",
        "                verticalalignment='center',\n",
        "                transform=ax.transAxes)\n",
        "\n",
        "        image = epoch_samples[e-1][j]\n",
        "        ax.imshow(image, cmap='gray_r')\n",
        "\n",
        "# plt.savefig('figures/ch17-dcgan-samples.pdf')\n",
        "plt.show()"
      ],
      "metadata": {
        "colab": {
          "base_uri": "https://localhost:8080/",
          "height": 1000
        },
        "id": "IIjcG1WdI1pI",
        "outputId": "340382a8-118d-420e-a252-4de6bbed13b0"
      },
      "execution_count": 11,
      "outputs": [
        {
          "output_type": "display_data",
          "data": {
            "text/plain": [
              "<Figure size 1000x1400 with 30 Axes>"
            ],
            "image/png": "[encoded data removed]"
          },
          "metadata": {}
        }
      ]
    },
    {
      "cell_type": "code",
      "source": [
        "print(fixed_z.shape)"
      ],
      "metadata": {
        "colab": {
          "base_uri": "https://localhost:8080/"
        },
        "id": "7u-sOz63OUpl",
        "outputId": "4a23edcf-0c09-4fa2-db64-1ba0e9dd29e9"
      },
      "execution_count": 12,
      "outputs": [
        {
          "output_type": "stream",
          "name": "stdout",
          "text": [
            "torch.Size([64, 100, 1, 1])\n"
          ]
        }
      ]
    }
  ],
  "metadata": {
    "kernelspec": {
      "display_name": "Python 3",
      "name": "python3"
    },
    "language_info": {
      "codemirror_mode": {
        "name": "ipython",
        "version": 3
      },
      "file_extension": ".py",
      "mimetype": "text/x-python",
      "name": "python",
      "nbconvert_exporter": "python",
      "pygments_lexer": "ipython3",
      "version": "3.9.17"
    },
    "orig_nbformat": 4,
    "colab": {
      "provenance": [],
      "gpuType": "T4"
    },
    "accelerator": "GPU"
  },
  "nbformat": 4,
  "nbformat_minor": 0
}